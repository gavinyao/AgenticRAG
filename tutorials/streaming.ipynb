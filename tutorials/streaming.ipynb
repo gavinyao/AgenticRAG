{
 "cells": [
  {
   "cell_type": "code",
   "id": "8dd4567f",
   "metadata": {
    "ExecuteTime": {
     "end_time": "2025-09-14T10:10:53.980878Z",
     "start_time": "2025-09-14T10:10:53.975995Z"
    }
   },
   "source": [
    "import os\n",
    "from dotenv import load_dotenv\n",
    "from langchain_openai import ChatOpenAI\n",
    "\n",
    "\n",
    "load_dotenv()"
   ],
   "outputs": [
    {
     "data": {
      "text/plain": [
       "True"
      ]
     },
     "execution_count": 3,
     "metadata": {},
     "output_type": "execute_result"
    }
   ],
   "execution_count": 3
  },
  {
   "cell_type": "code",
   "id": "872bc16b",
   "metadata": {
    "ExecuteTime": {
     "end_time": "2025-09-14T10:10:55.935093Z",
     "start_time": "2025-09-14T10:10:55.733494Z"
    }
   },
   "source": [
    "llm = ChatOpenAI(\n",
    "    model=\"qwen-max\",\n",
    "    base_url=os.environ.get(\"COMPATIBLE_BASE_URL\"),\n",
    "    api_key=os.environ.get(\"COMPATIBLE_API_KEY\"),\n",
    ")"
   ],
   "outputs": [],
   "execution_count": 4
  },
  {
   "cell_type": "code",
   "id": "37358db3",
   "metadata": {
    "ExecuteTime": {
     "end_time": "2025-09-14T10:10:58.404187Z",
     "start_time": "2025-09-14T10:10:57.858853Z"
    }
   },
   "source": [
    "for chunk in llm.stream(\"hi\"):\n",
    "    print(chunk.content, end=\"|\", flush=True)"
   ],
   "outputs": [
    {
     "name": "stdout",
     "output_type": "stream",
     "text": [
      "|Hello|! How can| I assist you| today?||"
     ]
    }
   ],
   "execution_count": 5
  },
  {
   "cell_type": "code",
   "id": "e86aa64f",
   "metadata": {
    "ExecuteTime": {
     "end_time": "2025-09-14T10:11:00.690807Z",
     "start_time": "2025-09-14T10:10:59.853378Z"
    }
   },
   "source": [
    "print(llm.invoke(\"hi\").content)"
   ],
   "outputs": [
    {
     "name": "stdout",
     "output_type": "stream",
     "text": [
      "Hello! How can I assist you today?\n"
     ]
    }
   ],
   "execution_count": 6
  },
  {
   "cell_type": "code",
   "id": "899894dd",
   "metadata": {
    "ExecuteTime": {
     "end_time": "2025-09-14T10:11:01.775730Z",
     "start_time": "2025-09-14T10:11:01.749971Z"
    }
   },
   "source": [
    "llm = ChatOpenAI(\n",
    "    model=\"qwen-max\",\n",
    "    base_url=os.environ.get(\"COMPATIBLE_BASE_URL\"),\n",
    "    api_key=os.environ.get(\"COMPATIBLE_API_KEY\"),\n",
    "    streaming=True,\n",
    ")"
   ],
   "outputs": [],
   "execution_count": 7
  },
  {
   "cell_type": "code",
   "id": "1454a2e8",
   "metadata": {
    "ExecuteTime": {
     "end_time": "2025-09-14T10:11:06.221540Z",
     "start_time": "2025-09-14T10:11:04.689963Z"
    }
   },
   "source": [
    "for chunk in llm.stream(\"hi\"):\n",
    "    print(chunk.content, end=\"|\", flush=True)"
   ],
   "outputs": [
    {
     "name": "stdout",
     "output_type": "stream",
     "text": [
      "|Hello|! How can| I assist you| today?||"
     ]
    }
   ],
   "execution_count": 8
  },
  {
   "cell_type": "code",
   "id": "75a62e40",
   "metadata": {
    "ExecuteTime": {
     "end_time": "2025-09-14T10:11:08.277840Z",
     "start_time": "2025-09-14T10:11:07.596913Z"
    }
   },
   "source": [
    "print(llm.invoke(\"hi\").content)"
   ],
   "outputs": [
    {
     "name": "stdout",
     "output_type": "stream",
     "text": [
      "Hello! How can I assist you today?\n"
     ]
    }
   ],
   "execution_count": 9
  },
  {
   "cell_type": "code",
   "id": "f877906f",
   "metadata": {
    "ExecuteTime": {
     "end_time": "2025-09-14T10:11:13.087921Z",
     "start_time": "2025-09-14T10:11:10.248805Z"
    }
   },
   "source": [
    "llm = ChatOpenAI(\n",
    "    model=\"qwen3-32b\",\n",
    "    base_url=os.environ.get(\"COMPATIBLE_BASE_URL\"),\n",
    "    api_key=os.environ.get(\"COMPATIBLE_API_KEY\"),\n",
    "    streaming=True,\n",
    ")\n",
    "\n",
    "for chunk in llm.stream(\"hi\"):\n",
    "    print(chunk.content, end=\"|\", flush=True)"
   ],
   "outputs": [
    {
     "name": "stdout",
     "output_type": "stream",
     "text": [
      "|||||||||||||||||||||Hello! How| can I help you| today? 😊||"
     ]
    }
   ],
   "execution_count": 10
  }
 ],
 "metadata": {
  "kernelspec": {
   "display_name": "agent",
   "language": "python",
   "name": "python3"
  },
  "language_info": {
   "codemirror_mode": {
    "name": "ipython",
    "version": 3
   },
   "file_extension": ".py",
   "mimetype": "text/x-python",
   "name": "python",
   "nbconvert_exporter": "python",
   "pygments_lexer": "ipython3",
   "version": "3.12.9"
  }
 },
 "nbformat": 4,
 "nbformat_minor": 5
}
