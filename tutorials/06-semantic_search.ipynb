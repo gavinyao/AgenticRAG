{
 "cells": [
  {
   "cell_type": "code",
   "id": "1db95924",
   "metadata": {
    "ExecuteTime": {
     "end_time": "2025-09-13T11:31:13.512147Z",
     "start_time": "2025-09-13T11:31:12.920260Z"
    }
   },
   "source": [
    "import os\n",
    "from dotenv import load_dotenv\n",
    "from langchain_openai import ChatOpenAI\n",
    "\n",
    "\n",
    "load_dotenv()\n",
    "\n",
    "\n",
    "# Configure an LLM\n",
    "llm = ChatOpenAI(\n",
    "    model=\"qwen3-32b\",\n",
    "    temperature=0.5,\n",
    "    base_url=os.environ.get(\"COMPATIBLE_BASE_URL\"),\n",
    "    api_key=os.environ.get(\"COMPATIBLE_API_KEY\"),\n",
    "    streaming=True,\n",
    "    extra_body={\"enable_thinking\": False},\n",
    ")"
   ],
   "outputs": [
    {
     "name": "stderr",
     "output_type": "stream",
     "text": [
      "/Users/gavinyao/miniconda3/envs/arag/lib/python3.12/site-packages/requests/__init__.py:86: RequestsDependencyWarning: Unable to find acceptable character detection dependency (chardet or charset_normalizer).\n",
      "  warnings.warn(\n"
     ]
    }
   ],
   "execution_count": 1
  },
  {
   "cell_type": "code",
   "id": "99b6b413",
   "metadata": {
    "ExecuteTime": {
     "end_time": "2025-09-13T11:32:13.857054Z",
     "start_time": "2025-09-13T11:31:17.418137Z"
    }
   },
   "source": [
    "from langchain_pymupdf4llm import PyMuPDF4LLMLoader\n",
    "\n",
    "file_path = \"~/Downloads/nke-10k-2023.pdf\"\n",
    "loader = PyMuPDF4LLMLoader(file_path)\n",
    "\n",
    "docs = loader.load()\n",
    "\n",
    "print(len(docs))"
   ],
   "outputs": [
    {
     "name": "stdout",
     "output_type": "stream",
     "text": [
      "106\n"
     ]
    }
   ],
   "execution_count": 2
  },
  {
   "metadata": {},
   "cell_type": "code",
   "outputs": [],
   "execution_count": null,
   "source": "",
   "id": "c7d5908bc79f5de9"
  },
  {
   "metadata": {},
   "cell_type": "code",
   "outputs": [],
   "execution_count": null,
   "source": "",
   "id": "baac514e3fe95a64"
  },
  {
   "metadata": {},
   "cell_type": "code",
   "outputs": [],
   "execution_count": null,
   "source": "",
   "id": "3168b549aa11cbcb"
  },
  {
   "cell_type": "code",
   "execution_count": 3,
   "id": "8b43b33c",
   "metadata": {},
   "outputs": [
    {
     "name": "stdout",
     "output_type": "stream",
     "text": [
      "Table of Contents\n",
      "\n",
      "\n",
      "**UNITED STATES**\n",
      "\n",
      "**SECURITIES AND EXCHANGE COMMISSION**\n",
      "\n",
      "\n",
      "**Washington, D.C. 20549**\n",
      "\n",
      "\n",
      "**FORM 10-K**\n",
      "\n",
      "\n",
      "(Mark One)\n",
      "☑ **ANNUAL REPORT PURSUANT TO SECTION 13 OR 15(D) OF THE SECURIT\n",
      "\n",
      "{'producer': 'EDGRpdf Service w/ EO.Pdf 22.0.40.0', 'creator': 'EDGAR Filing HTML Converter', 'creationdate': '2023-07-20T16:22:00-04:00', 'source': '../example_data/nke-10k-2023.pdf', 'file_path': '../example_data/nke-10k-2023.pdf', 'total_pages': 107, 'format': 'PDF 1.4', 'title': '0000320187-23-000039', 'author': 'EDGAR Online, a division of Donnelley Financial Solutions', 'subject': 'Form 10-K filed on 2023-07-20 for the period ending 2023-05-31', 'keywords': '0000320187-23-000039; ; 10-K', 'moddate': '2023-07-20T16:22:08-04:00', 'trapped': '', 'encryption': 'Standard V2 R3 128-bit RC4', 'modDate': \"D:20230720162208-04'00'\", 'creationDate': \"D:20230720162200-04'00'\", 'page': 0}\n"
     ]
    }
   ],
   "source": [
    "print(f\"{docs[0].page_content[:200]}\\n\")\n",
    "print(docs[0].metadata)"
   ]
  },
  {
   "cell_type": "code",
   "id": "795a43db",
   "metadata": {
    "ExecuteTime": {
     "end_time": "2025-09-13T11:43:20.028920Z",
     "start_time": "2025-09-13T11:43:19.958676Z"
    }
   },
   "source": [
    "from langchain_text_splitters import RecursiveCharacterTextSplitter\n",
    "\n",
    "text_splitter = RecursiveCharacterTextSplitter(\n",
    "    chunk_size=1000, chunk_overlap=200, add_start_index=True\n",
    ")\n",
    "all_splits = text_splitter.split_documents(docs)\n",
    "\n",
    "len(all_splits)"
   ],
   "outputs": [
    {
     "data": {
      "text/plain": [
       "585"
      ]
     },
     "execution_count": 6,
     "metadata": {},
     "output_type": "execute_result"
    }
   ],
   "execution_count": 6
  },
  {
   "cell_type": "code",
   "id": "088fcfa4",
   "metadata": {
    "ExecuteTime": {
     "end_time": "2025-09-13T11:43:22.146135Z",
     "start_time": "2025-09-13T11:43:22.143909Z"
    }
   },
   "source": [
    "from langchain_community.embeddings import DashScopeEmbeddings\n",
    "\n",
    "\n",
    "embeddings = DashScopeEmbeddings(\n",
    "    model=\"text-embedding-v4\",\n",
    "    dashscope_api_key=os.environ.get(\"OPENAI_API_KEY\"),)"
   ],
   "outputs": [],
   "execution_count": 7
  },
  {
   "cell_type": "code",
   "id": "f506d0e1",
   "metadata": {
    "ExecuteTime": {
     "end_time": "2025-09-13T11:43:25.071968Z",
     "start_time": "2025-09-13T11:43:24.665556Z"
    }
   },
   "source": [
    "vector_1 = embeddings.embed_query(all_splits[0].page_content)\n",
    "vector_2 = embeddings.embed_query(all_splits[1].page_content)\n",
    "\n",
    "assert len(vector_1) == len(vector_2)\n",
    "print(f\"Generated vectors of length {len(vector_1)}\\n\")\n",
    "print(vector_1[:10])"
   ],
   "outputs": [
    {
     "name": "stdout",
     "output_type": "stream",
     "text": [
      "Generated vectors of length 1024\n",
      "\n",
      "[-0.04105288162827492, 0.039113983511924744, -0.011045241728425026, -0.019479436799883842, 0.036425381898880005, 0.0699036493897438, 0.0435863696038723, 0.0315135158598423, -0.0036063457373529673, 0.09704818576574326]\n"
     ]
    }
   ],
   "execution_count": 8
  },
  {
   "cell_type": "code",
   "id": "df89101f",
   "metadata": {
    "ExecuteTime": {
     "end_time": "2025-09-13T11:43:28.524009Z",
     "start_time": "2025-09-13T11:43:27.950269Z"
    }
   },
   "source": [
    "from langchain_qdrant import QdrantVectorStore\n",
    "from qdrant_client import QdrantClient\n",
    "from qdrant_client.http.models import Distance, VectorParams\n",
    "\n",
    "client = QdrantClient(host=\"localhost\", port=6333)\n",
    "\n",
    "client.create_collection(\n",
    "    collection_name=\"rag_from_scratch\",\n",
    "    vectors_config=VectorParams(size=1024, distance=Distance.COSINE),\n",
    ")\n",
    "\n",
    "vector_store = QdrantVectorStore(\n",
    "    client=client,\n",
    "    collection_name=\"rag_from_scratch\",\n",
    "    embedding=embeddings,\n",
    ")"
   ],
   "outputs": [],
   "execution_count": 9
  },
  {
   "cell_type": "code",
   "id": "484932f5",
   "metadata": {
    "ExecuteTime": {
     "end_time": "2025-09-13T11:44:06.520575Z",
     "start_time": "2025-09-13T11:43:35.336020Z"
    }
   },
   "source": [
    "ids = [vector_store.add_documents(documents=all_splits[i:i+10]) for i in range(0, len(all_splits), 10)]\n",
    "len(ids)"
   ],
   "outputs": [
    {
     "data": {
      "text/plain": [
       "59"
      ]
     },
     "execution_count": 10,
     "metadata": {},
     "output_type": "execute_result"
    }
   ],
   "execution_count": 10
  },
  {
   "cell_type": "code",
   "execution_count": 9,
   "id": "37fe3fa9",
   "metadata": {},
   "outputs": [
    {
     "data": {
      "text/plain": [
       "['53624eccf1914ac693b77a2c3ec0c79c',\n",
       " '1604653fadd74ec08427e000575228b9',\n",
       " 'f3c789900901464dba51ba593322c82a',\n",
       " '4495e2ff76a54e34b8089605455eecad',\n",
       " '75889865ba2c4faaa4705dedd31b0e9e',\n",
       " '42c92042cf2040929a1d6e5b4a7a6a81',\n",
       " 'cdad7b33aec84de695b8559e4f8fb99b',\n",
       " '146cebf7f8974536936b74c61eb374c4',\n",
       " 'd8caf241ba684f9e8bcf8bb1c1dff0aa',\n",
       " 'a0cc8da004ec4fc0a0eec73d5f0f0652']"
      ]
     },
     "execution_count": 9,
     "metadata": {},
     "output_type": "execute_result"
    }
   ],
   "source": [
    "ids[0]"
   ]
  },
  {
   "cell_type": "code",
   "id": "7275f680",
   "metadata": {
    "ExecuteTime": {
     "end_time": "2025-09-13T11:44:14.747576Z",
     "start_time": "2025-09-13T11:44:14.586789Z"
    }
   },
   "source": [
    "results = vector_store.similarity_search(\n",
    "    \"How many distribution centers does Nike have in the US?\"\n",
    ")\n",
    "\n",
    "print(results[0])"
   ],
   "outputs": [
    {
     "name": "stdout",
     "output_type": "stream",
     "text": [
      "page_content='In the United States, NIKE has eight significant distribution centers. Five are located in or near Memphis, Tennessee, two of\n",
      "which are owned and three of which are leased. Two other distribution centers, one located in Indianapolis, Indiana and one\n",
      "located in Dayton, Tennessee, are leased and operated by third-party logistics providers. One distribution center for Converse is\n",
      "located in Ontario, California, which is leased. NIKE has a number of distribution facilities outside the United States, some of\n",
      "which are leased and operated by third-party logistics providers. The most significant distribution facilities outside the United\n",
      "States are located in Laakdal, Belgium; Taicang, China; Tomisato, Japan and Icheon, Korea, all of which we own.' metadata={'producer': 'Wdesk Fidelity Content Translations Version 008.001.016', 'creator': 'Workiva', 'creationdate': '2023-07-20T22:09:22+00:00', 'source': '/Users/gavinyao/Downloads/nke-10k-2023.pdf', 'file_path': '/Users/gavinyao/Downloads/nke-10k-2023.pdf', 'total_pages': 106, 'format': 'PDF 1.7', 'title': 'Nike 2023 Proxy', 'author': 'anonymous', 'subject': '', 'keywords': '', 'moddate': '2023-07-26T15:13:52+08:00', 'trapped': '', 'modDate': \"D:20230726151352+08'00'\", 'creationDate': 'D:20230720220922Z', 'page': 27, 'start_index': 1064, '_id': '4844d61d-07f0-4d17-9802-aa5b4417fe87', '_collection_name': 'rag_from_scratch'}\n"
     ]
    }
   ],
   "execution_count": 11
  },
  {
   "cell_type": "code",
   "id": "8ada209f",
   "metadata": {
    "ExecuteTime": {
     "end_time": "2025-09-13T11:44:18.051901Z",
     "start_time": "2025-09-13T11:44:17.900283Z"
    }
   },
   "source": [
    "results = await vector_store.asimilarity_search(\"How many distribution centers does Nike have in the US?\")\n",
    "\n",
    "print(results[0])"
   ],
   "outputs": [
    {
     "name": "stdout",
     "output_type": "stream",
     "text": [
      "page_content='In the United States, NIKE has eight significant distribution centers. Five are located in or near Memphis, Tennessee, two of\n",
      "which are owned and three of which are leased. Two other distribution centers, one located in Indianapolis, Indiana and one\n",
      "located in Dayton, Tennessee, are leased and operated by third-party logistics providers. One distribution center for Converse is\n",
      "located in Ontario, California, which is leased. NIKE has a number of distribution facilities outside the United States, some of\n",
      "which are leased and operated by third-party logistics providers. The most significant distribution facilities outside the United\n",
      "States are located in Laakdal, Belgium; Taicang, China; Tomisato, Japan and Icheon, Korea, all of which we own.' metadata={'producer': 'Wdesk Fidelity Content Translations Version 008.001.016', 'creator': 'Workiva', 'creationdate': '2023-07-20T22:09:22+00:00', 'source': '/Users/gavinyao/Downloads/nke-10k-2023.pdf', 'file_path': '/Users/gavinyao/Downloads/nke-10k-2023.pdf', 'total_pages': 106, 'format': 'PDF 1.7', 'title': 'Nike 2023 Proxy', 'author': 'anonymous', 'subject': '', 'keywords': '', 'moddate': '2023-07-26T15:13:52+08:00', 'trapped': '', 'modDate': \"D:20230726151352+08'00'\", 'creationDate': 'D:20230720220922Z', 'page': 27, 'start_index': 1064, '_id': '4844d61d-07f0-4d17-9802-aa5b4417fe87', '_collection_name': 'rag_from_scratch'}\n"
     ]
    }
   ],
   "execution_count": 12
  },
  {
   "cell_type": "code",
   "id": "079d66cb",
   "metadata": {
    "ExecuteTime": {
     "end_time": "2025-09-13T11:44:21.259699Z",
     "start_time": "2025-09-13T11:44:21.099653Z"
    }
   },
   "source": [
    "embedding = embeddings.embed_query(\"How many distribution centers does Nike have in the US?\")\n",
    "\n",
    "results = vector_store.similarity_search_by_vector(embedding)\n",
    "print(results[0])"
   ],
   "outputs": [
    {
     "name": "stdout",
     "output_type": "stream",
     "text": [
      "page_content='In the United States, NIKE has eight significant distribution centers. Five are located in or near Memphis, Tennessee, two of\n",
      "which are owned and three of which are leased. Two other distribution centers, one located in Indianapolis, Indiana and one\n",
      "located in Dayton, Tennessee, are leased and operated by third-party logistics providers. One distribution center for Converse is\n",
      "located in Ontario, California, which is leased. NIKE has a number of distribution facilities outside the United States, some of\n",
      "which are leased and operated by third-party logistics providers. The most significant distribution facilities outside the United\n",
      "States are located in Laakdal, Belgium; Taicang, China; Tomisato, Japan and Icheon, Korea, all of which we own.' metadata={'producer': 'Wdesk Fidelity Content Translations Version 008.001.016', 'creator': 'Workiva', 'creationdate': '2023-07-20T22:09:22+00:00', 'source': '/Users/gavinyao/Downloads/nke-10k-2023.pdf', 'file_path': '/Users/gavinyao/Downloads/nke-10k-2023.pdf', 'total_pages': 106, 'format': 'PDF 1.7', 'title': 'Nike 2023 Proxy', 'author': 'anonymous', 'subject': '', 'keywords': '', 'moddate': '2023-07-26T15:13:52+08:00', 'trapped': '', 'modDate': \"D:20230726151352+08'00'\", 'creationDate': 'D:20230720220922Z', 'page': 27, 'start_index': 1064, '_id': '4844d61d-07f0-4d17-9802-aa5b4417fe87', '_collection_name': 'rag_from_scratch'}\n"
     ]
    }
   ],
   "execution_count": 13
  },
  {
   "cell_type": "code",
   "id": "31a448d5",
   "metadata": {
    "ExecuteTime": {
     "end_time": "2025-09-13T11:44:24.401908Z",
     "start_time": "2025-09-13T11:44:24.233281Z"
    }
   },
   "source": [
    "# Note that providers implement different scores; the score here\n",
    "# is a distance metric that varies inversely with similarity.\n",
    "\n",
    "results = vector_store.similarity_search_with_score(\"How many distribution centers does Nike have in the US?\")\n",
    "doc, score = results[0]\n",
    "print(f\"Score: {score}\\n\")\n",
    "print(doc)"
   ],
   "outputs": [
    {
     "name": "stdout",
     "output_type": "stream",
     "text": [
      "Score: 0.7661074\n",
      "\n",
      "page_content='In the United States, NIKE has eight significant distribution centers. Five are located in or near Memphis, Tennessee, two of\n",
      "which are owned and three of which are leased. Two other distribution centers, one located in Indianapolis, Indiana and one\n",
      "located in Dayton, Tennessee, are leased and operated by third-party logistics providers. One distribution center for Converse is\n",
      "located in Ontario, California, which is leased. NIKE has a number of distribution facilities outside the United States, some of\n",
      "which are leased and operated by third-party logistics providers. The most significant distribution facilities outside the United\n",
      "States are located in Laakdal, Belgium; Taicang, China; Tomisato, Japan and Icheon, Korea, all of which we own.' metadata={'producer': 'Wdesk Fidelity Content Translations Version 008.001.016', 'creator': 'Workiva', 'creationdate': '2023-07-20T22:09:22+00:00', 'source': '/Users/gavinyao/Downloads/nke-10k-2023.pdf', 'file_path': '/Users/gavinyao/Downloads/nke-10k-2023.pdf', 'total_pages': 106, 'format': 'PDF 1.7', 'title': 'Nike 2023 Proxy', 'author': 'anonymous', 'subject': '', 'keywords': '', 'moddate': '2023-07-26T15:13:52+08:00', 'trapped': '', 'modDate': \"D:20230726151352+08'00'\", 'creationDate': 'D:20230720220922Z', 'page': 27, 'start_index': 1064, '_id': '4844d61d-07f0-4d17-9802-aa5b4417fe87', '_collection_name': 'rag_from_scratch'}\n"
     ]
    }
   ],
   "execution_count": 14
  },
  {
   "cell_type": "code",
   "id": "13d73ae0",
   "metadata": {
    "ExecuteTime": {
     "end_time": "2025-09-13T11:44:27.627387Z",
     "start_time": "2025-09-13T11:44:27.419164Z"
    }
   },
   "source": [
    "results = vector_store.similarity_search(\n",
    "    \"耐克在美国有多少个配送中心？\"\n",
    ")\n",
    "\n",
    "print(results[0])"
   ],
   "outputs": [
    {
     "name": "stdout",
     "output_type": "stream",
     "text": [
      "page_content='In the United States, NIKE has eight significant distribution centers. Five are located in or near Memphis, Tennessee, two of\n",
      "which are owned and three of which are leased. Two other distribution centers, one located in Indianapolis, Indiana and one\n",
      "located in Dayton, Tennessee, are leased and operated by third-party logistics providers. One distribution center for Converse is\n",
      "located in Ontario, California, which is leased. NIKE has a number of distribution facilities outside the United States, some of\n",
      "which are leased and operated by third-party logistics providers. The most significant distribution facilities outside the United\n",
      "States are located in Laakdal, Belgium; Taicang, China; Tomisato, Japan and Icheon, Korea, all of which we own.' metadata={'producer': 'Wdesk Fidelity Content Translations Version 008.001.016', 'creator': 'Workiva', 'creationdate': '2023-07-20T22:09:22+00:00', 'source': '/Users/gavinyao/Downloads/nke-10k-2023.pdf', 'file_path': '/Users/gavinyao/Downloads/nke-10k-2023.pdf', 'total_pages': 106, 'format': 'PDF 1.7', 'title': 'Nike 2023 Proxy', 'author': 'anonymous', 'subject': '', 'keywords': '', 'moddate': '2023-07-26T15:13:52+08:00', 'trapped': '', 'modDate': \"D:20230726151352+08'00'\", 'creationDate': 'D:20230720220922Z', 'page': 27, 'start_index': 1064, '_id': '4844d61d-07f0-4d17-9802-aa5b4417fe87', '_collection_name': 'rag_from_scratch'}\n"
     ]
    }
   ],
   "execution_count": 15
  },
  {
   "cell_type": "code",
   "id": "632159fd",
   "metadata": {
    "ExecuteTime": {
     "end_time": "2025-09-13T11:44:30.684082Z",
     "start_time": "2025-09-13T11:44:30.474686Z"
    }
   },
   "source": [
    "retriever = vector_store.as_retriever(\n",
    "    search_type=\"similarity\",\n",
    "    search_kwargs={\"k\": 1},\n",
    ")\n",
    "\n",
    "retriever.batch(\n",
    "    [\n",
    "        \"How many distribution centers does Nike have in the US?\",\n",
    "        \"When was Nike incorporated?\",\n",
    "    ],\n",
    ")"
   ],
   "outputs": [
    {
     "data": {
      "text/plain": [
       "[[Document(metadata={'producer': 'Wdesk Fidelity Content Translations Version 008.001.016', 'creator': 'Workiva', 'creationdate': '2023-07-20T22:09:22+00:00', 'source': '/Users/gavinyao/Downloads/nke-10k-2023.pdf', 'file_path': '/Users/gavinyao/Downloads/nke-10k-2023.pdf', 'total_pages': 106, 'format': 'PDF 1.7', 'title': 'Nike 2023 Proxy', 'author': 'anonymous', 'subject': '', 'keywords': '', 'moddate': '2023-07-26T15:13:52+08:00', 'trapped': '', 'modDate': \"D:20230726151352+08'00'\", 'creationDate': 'D:20230720220922Z', 'page': 27, 'start_index': 1064, '_id': '4844d61d-07f0-4d17-9802-aa5b4417fe87', '_collection_name': 'rag_from_scratch'}, page_content='In the United States, NIKE has eight significant distribution centers. Five are located in or near Memphis, Tennessee, two of\\nwhich are owned and three of which are leased. Two other distribution centers, one located in Indianapolis, Indiana and one\\nlocated in Dayton, Tennessee, are leased and operated by third-party logistics providers. One distribution center for Converse is\\nlocated in Ontario, California, which is leased. NIKE has a number of distribution facilities outside the United States, some of\\nwhich are leased and operated by third-party logistics providers. The most significant distribution facilities outside the United\\nStates are located in Laakdal, Belgium; Taicang, China; Tomisato, Japan and Icheon, Korea, all of which we own.')],\n",
       " [Document(metadata={'producer': 'Wdesk Fidelity Content Translations Version 008.001.016', 'creator': 'Workiva', 'creationdate': '2023-07-20T22:09:22+00:00', 'source': '/Users/gavinyao/Downloads/nke-10k-2023.pdf', 'file_path': '/Users/gavinyao/Downloads/nke-10k-2023.pdf', 'total_pages': 106, 'format': 'PDF 1.7', 'title': 'Nike 2023 Proxy', 'author': 'anonymous', 'subject': '', 'keywords': '', 'moddate': '2023-07-26T15:13:52+08:00', 'trapped': '', 'modDate': \"D:20230726151352+08'00'\", 'creationDate': 'D:20230720220922Z', 'page': 4, 'start_index': 0, '_id': '1736fb43-703d-4e35-8b81-b017c83eb08b', '_collection_name': 'rag_from_scratch'}, page_content='# **PART I**\\n\\n### **ITEM 1. BUSINESS**\\n\\n#### **GENERAL**\\n\\nNIKE, Inc. was incorporated in 1967 under the laws of the State of Oregon. As used in this Annual Report on Form 10-K (this\\n\"Annual Report\"), the terms \"we,\" \"us,\" \"our,\" \"NIKE\" and the \"Company\" refer to NIKE, Inc. and its predecessors, subsidiaries\\nand affiliates, collectively, unless the context indicates otherwise.')]]"
      ]
     },
     "execution_count": 16,
     "metadata": {},
     "output_type": "execute_result"
    }
   ],
   "execution_count": 16
  },
  {
   "cell_type": "code",
   "execution_count": null,
   "id": "64110e5a",
   "metadata": {},
   "outputs": [],
   "source": []
  }
 ],
 "metadata": {
  "kernelspec": {
   "display_name": "arag",
   "language": "python",
   "name": "python3"
  },
  "language_info": {
   "codemirror_mode": {
    "name": "ipython",
    "version": 3
   },
   "file_extension": ".py",
   "mimetype": "text/x-python",
   "name": "python",
   "nbconvert_exporter": "python",
   "pygments_lexer": "ipython3",
   "version": "3.12.11"
  }
 },
 "nbformat": 4,
 "nbformat_minor": 5
}
