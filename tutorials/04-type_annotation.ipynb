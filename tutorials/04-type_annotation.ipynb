{
 "cells": [
  {
   "cell_type": "code",
   "execution_count": 1,
   "id": "894bf668",
   "metadata": {},
   "outputs": [],
   "source": [
    "movie = {\n",
    "    \"name\": \"Avengers Endgame\",\n",
    "    \"year\": 2019\n",
    "}"
   ]
  },
  {
   "cell_type": "code",
   "execution_count": 2,
   "id": "59d891a5",
   "metadata": {},
   "outputs": [],
   "source": [
    "from typing import TypedDict\n",
    "\n",
    "class Movie(TypedDict):\n",
    "    name : str\n",
    "    year : int\n",
    "\n",
    "movie = Movie(name=\"Avengers Endgame\", year=2019)"
   ]
  },
  {
   "cell_type": "code",
   "execution_count": 3,
   "id": "d1cd9044",
   "metadata": {},
   "outputs": [
    {
     "data": {
      "text/plain": [
       "'Avengers Endgame'"
      ]
     },
     "execution_count": 3,
     "metadata": {},
     "output_type": "execute_result"
    }
   ],
   "source": [
    "movie['name']"
   ]
  },
  {
   "cell_type": "code",
   "execution_count": 4,
   "id": "de51e987",
   "metadata": {},
   "outputs": [
    {
     "data": {
      "text/plain": [
       "{'name': 'Avengers Endgame', 'year': '2019'}"
      ]
     },
     "execution_count": 4,
     "metadata": {},
     "output_type": "execute_result"
    }
   ],
   "source": [
    "movie = Movie(name=\"Avengers Endgame\", year=\"2019\")\n",
    "movie"
   ]
  },
  {
   "cell_type": "code",
   "execution_count": 5,
   "id": "ac66f59e",
   "metadata": {},
   "outputs": [
    {
     "ename": "TypeError",
     "evalue": "can't multiply sequence by non-int of type 'str'",
     "output_type": "error",
     "traceback": [
      "\u001b[31m---------------------------------------------------------------------------\u001b[39m",
      "\u001b[31mTypeError\u001b[39m                                 Traceback (most recent call last)",
      "\u001b[36mCell\u001b[39m\u001b[36m \u001b[39m\u001b[32mIn[5]\u001b[39m\u001b[32m, line 6\u001b[39m\n\u001b[32m      3\u001b[39m \u001b[38;5;28;01mdef\u001b[39;00m\u001b[38;5;250m \u001b[39m\u001b[34msquare\u001b[39m(x: Union[\u001b[38;5;28mint\u001b[39m, \u001b[38;5;28mfloat\u001b[39m]) -> \u001b[38;5;28mfloat\u001b[39m:\n\u001b[32m      4\u001b[39m     \u001b[38;5;28;01mreturn\u001b[39;00m x * x\n\u001b[32m----> \u001b[39m\u001b[32m6\u001b[39m \u001b[38;5;28mprint\u001b[39m(square(\u001b[32m5\u001b[39m), square(\u001b[32m1.25\u001b[39m), square(\u001b[33m\"\u001b[39m\u001b[33m5\u001b[39m\u001b[33m\"\u001b[39m))\n",
      "\u001b[36mCell\u001b[39m\u001b[36m \u001b[39m\u001b[32mIn[5]\u001b[39m\u001b[32m, line 4\u001b[39m, in \u001b[36msquare\u001b[39m\u001b[34m(x)\u001b[39m\n\u001b[32m      3\u001b[39m \u001b[38;5;28;01mdef\u001b[39;00m\u001b[38;5;250m \u001b[39m\u001b[34msquare\u001b[39m(x: Union[\u001b[38;5;28mint\u001b[39m, \u001b[38;5;28mfloat\u001b[39m]) -> \u001b[38;5;28mfloat\u001b[39m:\n\u001b[32m----> \u001b[39m\u001b[32m4\u001b[39m     \u001b[38;5;28;01mreturn\u001b[39;00m x * x\n",
      "\u001b[31mTypeError\u001b[39m: can't multiply sequence by non-int of type 'str'"
     ]
    }
   ],
   "source": [
    "from typing import Union\n",
    "\n",
    "def square(x: Union[int, float]) -> float:\n",
    "    return x * x\n",
    "\n",
    "print(square(5), square(1.25), square(\"5\"))"
   ]
  },
  {
   "cell_type": "code",
   "execution_count": 6,
   "id": "12318866",
   "metadata": {},
   "outputs": [
    {
     "data": {
      "text/plain": [
       "(25, 1.5625)"
      ]
     },
     "execution_count": 6,
     "metadata": {},
     "output_type": "execute_result"
    }
   ],
   "source": [
    "square(5), square(1.25)"
   ]
  },
  {
   "cell_type": "code",
   "execution_count": 7,
   "id": "2f6827d7",
   "metadata": {},
   "outputs": [
    {
     "name": "stdout",
     "output_type": "stream",
     "text": [
      "Hi there Bob\n",
      "Hey random person\n",
      "Hi there 2\n"
     ]
    }
   ],
   "source": [
    "from typing import Optional\n",
    "\n",
    "# def nice_message(name: Optional[str] = None) -> None:\n",
    "#     if name:\n",
    "#         print(f\"Hi there {name}\")\n",
    "#     else:\n",
    "#         print(\"Hey random person\")\n",
    "\n",
    "def nice_message(name: str | None = None) -> None:\n",
    "    if name:\n",
    "        print(f\"Hi there {name}\")\n",
    "    else:\n",
    "        print(\"Hey random person\")\n",
    "\n",
    "nice_message(\"Bob\")\n",
    "nice_message()\n",
    "nice_message(2)"
   ]
  },
  {
   "cell_type": "code",
   "execution_count": 8,
   "id": "2d0798b4",
   "metadata": {},
   "outputs": [
    {
     "name": "stdout",
     "output_type": "stream",
     "text": [
      "Hi\n"
     ]
    }
   ],
   "source": [
    "from typing import Any\n",
    "\n",
    "def print_value(value: Any):\n",
    "    print(value)\n",
    "\n",
    "print_value(\"Hi\")"
   ]
  },
  {
   "cell_type": "code",
   "execution_count": 9,
   "id": "4386a9f6",
   "metadata": {},
   "outputs": [
    {
     "data": {
      "text/plain": [
       "100"
      ]
     },
     "execution_count": 9,
     "metadata": {},
     "output_type": "execute_result"
    }
   ],
   "source": [
    "square = lambda x: x * x\n",
    "\n",
    "square(10)"
   ]
  },
  {
   "cell_type": "code",
   "execution_count": 10,
   "id": "61a8edcc",
   "metadata": {},
   "outputs": [
    {
     "data": {
      "text/plain": [
       "[1, 4, 9, 16]"
      ]
     },
     "execution_count": 10,
     "metadata": {},
     "output_type": "execute_result"
    }
   ],
   "source": [
    "nums = [1, 2, 3, 4]\n",
    "squared = list(map(lambda x: x * x, nums))\n",
    "\n",
    "squared"
   ]
  }
 ],
 "metadata": {
  "kernelspec": {
   "display_name": "arag",
   "language": "python",
   "name": "python3"
  },
  "language_info": {
   "codemirror_mode": {
    "name": "ipython",
    "version": 3
   },
   "file_extension": ".py",
   "mimetype": "text/x-python",
   "name": "python",
   "nbconvert_exporter": "python",
   "pygments_lexer": "ipython3",
   "version": "3.12.11"
  }
 },
 "nbformat": 4,
 "nbformat_minor": 5
}
